{
  "nbformat": 4,
  "nbformat_minor": 0,
  "metadata": {
    "colab": {
      "name": "Python_Games.ipynb",
      "provenance": [],
      "include_colab_link": true
    },
    "kernelspec": {
      "name": "python3",
      "display_name": "Python 3"
    }
  },
  "cells": [
    {
      "cell_type": "markdown",
      "metadata": {
        "id": "view-in-github",
        "colab_type": "text"
      },
      "source": [
        "<a href=\"https://colab.research.google.com/github/tsatir/python_games/blob/master/Python_Games.ipynb\" target=\"_parent\"><img src=\"https://colab.research.google.com/assets/colab-badge.svg\" alt=\"Open In Colab\"/></a>"
      ]
    },
    {
      "cell_type": "code",
      "metadata": {
        "id": "beK2XWM8w2Za",
        "colab_type": "code",
        "colab": {
          "base_uri": "https://localhost:8080/",
          "height": 122
        },
        "outputId": "99205dbc-425c-4edb-a9ac-658c7373e9e2"
      },
      "source": [
        "!pip install pygame"
      ],
      "execution_count": 1,
      "outputs": [
        {
          "output_type": "stream",
          "text": [
            "Collecting pygame\n",
            "\u001b[?25l  Downloading https://files.pythonhosted.org/packages/8e/24/ede6428359f913ed9cd1643dd5533aefeb5a2699cc95bea089de50ead586/pygame-1.9.6-cp36-cp36m-manylinux1_x86_64.whl (11.4MB)\n",
            "\u001b[K     |████████████████████████████████| 11.4MB 198kB/s \n",
            "\u001b[?25hInstalling collected packages: pygame\n",
            "Successfully installed pygame-1.9.6\n"
          ],
          "name": "stdout"
        }
      ]
    },
    {
      "cell_type": "code",
      "metadata": {
        "id": "iE9l1DLDxkHu",
        "colab_type": "code",
        "colab": {
          "base_uri": "https://localhost:8080/",
          "height": 68
        },
        "outputId": "c413c5a8-cf60-448a-b2a3-7653c00ea483"
      },
      "source": [
        "print('Welcome to our World Game!')\n",
        "print('You have 6 attemps to guess the name')\n",
        "print('After 6 tries, It is over!!!')"
      ],
      "execution_count": 2,
      "outputs": [
        {
          "output_type": "stream",
          "text": [
            "Welcome to our World Game!\n",
            "You have 6 attemps to guess the name\n",
            "After 6 tries, It is over!!!\n"
          ],
          "name": "stdout"
        }
      ]
    },
    {
      "cell_type": "code",
      "metadata": {
        "id": "S-FgOkm6yI7g",
        "colab_type": "code",
        "colab": {}
      },
      "source": [
        "import random\n",
        "\n",
        "def get_guess():\n",
        "  dashes = \"_\"*len(secret_word)\n",
        "  guesses_left = 5\n",
        "  while guesses_left > -1 and not dashes == secret_word:\n",
        "    print(dashes)\n",
        "    print(str(guesses_left))\n",
        "    guess = input(\"Guess:\")\n",
        "    if len(guess) != 1:\n",
        "      print('your guess must have exactly one character')\n",
        "    elif guess in secret_word:\n",
        "      print('the letter in the secret word')\n",
        "      dashes = update_dashes(secret_word, dashes, guess)\n",
        "    else:\n",
        "      print('the letter is not in the secret word!')\n",
        "      guesses_left -=1\n",
        "  if guesses_left < 0:\n",
        "    print('you lose! The word was '+str(secret_word))\n",
        "  else:\n",
        "    print('you win! the word was '+str(secret_word))   "
      ],
      "execution_count": 0,
      "outputs": []
    },
    {
      "cell_type": "code",
      "metadata": {
        "id": "NcOGmjh9z7Qd",
        "colab_type": "code",
        "colab": {
          "base_uri": "https://localhost:8080/",
          "height": 374
        },
        "outputId": "7d4639ec-5d42-4083-eedb-a9af79759369"
      },
      "source": [
        "def update_dashes(secret, cur_dash, rec_guess):\n",
        "  result=\"\"\n",
        "\n",
        "  for i in range(len(secret)):\n",
        "    if secret[i]== rec_guess:\n",
        "      result = result + rec_guess\n",
        "    else:\n",
        "      result = result+cur_dash[i]\n",
        "  return result\n",
        "\n",
        "words = ['tugce', 'alpi', 'sea']\n",
        "secret_word = random.choice(words)\n",
        "get_guess()"
      ],
      "execution_count": 16,
      "outputs": [
        {
          "output_type": "stream",
          "text": [
            "___\n",
            "5\n",
            "Guess:a\n",
            "the letter in the secret word\n",
            "__a\n",
            "5\n",
            "Guess:o\n",
            "the letter is not in the secret word!\n",
            "__a\n",
            "4\n",
            "Guess:s\n",
            "the letter in the secret word\n",
            "s_a\n",
            "4\n",
            "Guess:sea\n",
            "your guess must have exactly one character\n",
            "s_a\n",
            "4\n",
            "Guess:e\n",
            "the letter in the secret word\n",
            "you win! the word was sea\n"
          ],
          "name": "stdout"
        }
      ]
    },
    {
      "cell_type": "code",
      "metadata": {
        "id": "mzkY63prz_Vf",
        "colab_type": "code",
        "colab": {}
      },
      "source": [
        ""
      ],
      "execution_count": 0,
      "outputs": []
    }
  ]
}